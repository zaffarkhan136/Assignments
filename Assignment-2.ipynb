{
 "cells": [
  {
   "cell_type": "code",
   "execution_count": null,
   "metadata": {},
   "outputs": [],
   "source": [
    "chem = int(input(\"Enter marks in Chemistry: \"))\n",
    "phy = int(input(\"Enter marks in Physics: \"))\n",
    "math = int(input(\"Enter marks in Maths: \"))\n",
    "eng = int(input(\"Enter marks in English: \"))\n",
    "urdu = int(input(\"Enter marks in Urdu: \"))\n",
    "total = ((chem + phy + math + eng + urdu) / 500) * 100\n",
    "print(\"Your percentage is: \", total)\n",
    "if total <= 100 and total >= 80:\n",
    "    print(\"Your grade is: A1\")\n",
    "elif total < 80 and total >=70:\n",
    "    print(\"Your grade is: A\")\n",
    "elif total < 70 and total >= 60:\n",
    "    print(\"Your grade is: B\")\n",
    "elif total < 60 and total >= 50:\n",
    "    print(\"Your grade is C\")\n",
    "else:\n",
    "    print(\"Your grade is: F\")"
   ]
  },
  {
   "cell_type": "code",
   "execution_count": null,
   "metadata": {},
   "outputs": [],
   "source": [
    "num = int(input(\"Enter any number: \"))\n",
    "if num % 2 == 0:\n",
    "    print(\"The number is even\")\n",
    "else:\n",
    "    print(\"The number is odd\")"
   ]
  },
  {
   "cell_type": "code",
   "execution_count": null,
   "metadata": {},
   "outputs": [],
   "source": [
    "my_list = [1, 2, 3, 4, 5, 6, 7, 8, 9]\n",
    "print(len(my_list))"
   ]
  },
  {
   "cell_type": "code",
   "execution_count": null,
   "metadata": {},
   "outputs": [],
   "source": [
    "my_list = [1, 2, 3, 4, 5, 6, 7, 8, 9]\n",
    "print(sum(my_list))"
   ]
  },
  {
   "cell_type": "code",
   "execution_count": null,
   "metadata": {},
   "outputs": [],
   "source": [
    "my_list = [1, 2, 3, 4, 5, 6, 7, 8, 9]\n",
    "print(max(my_list))"
   ]
  },
  {
   "cell_type": "code",
   "execution_count": null,
   "metadata": {},
   "outputs": [],
   "source": [
    "my_list = [1, 1, 2, 3, 5, 8, 13, 21, 34, 55, 89]\n",
    "for i in my_list:\n",
    "    if i < 5:\n",
    "        print(i)"
   ]
  }
 ],
 "metadata": {
  "kernelspec": {
   "display_name": "Python 3",
   "language": "python",
   "name": "python3"
  },
  "language_info": {
   "codemirror_mode": {
    "name": "ipython",
    "version": 3
   },
   "file_extension": ".py",
   "mimetype": "text/x-python",
   "name": "python",
   "nbconvert_exporter": "python",
   "pygments_lexer": "ipython3",
   "version": "3.7.4"
  }
 },
 "nbformat": 4,
 "nbformat_minor": 2
}
