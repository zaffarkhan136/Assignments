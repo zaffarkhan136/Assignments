{
 "cells": [
  {
   "cell_type": "code",
   "execution_count": 1,
   "metadata": {},
   "outputs": [
    {
     "name": "stdout",
     "output_type": "stream",
     "text": [
      "{'first name': 'Zaffar', 'last name': 'khan', 'age': 21, 'city': 'Karachi'}\n",
      "{'first name': 'Zaffar', 'last name': 'khan', 'age': 21, 'city': 'Karachi', 'qualification': 'intermediate'}\n",
      "{'first name': 'Zaffar', 'last name': 'khan', 'age': 21, 'city': 'Karachi', 'qualification': 'bachelors'}\n",
      "{'first name': 'Zaffar', 'last name': 'khan', 'age': 21, 'city': 'Karachi'}\n"
     ]
    }
   ],
   "source": [
    "# question 1\n",
    "\n",
    "myinfo = { \n",
    "    \"first name\": \"Zaffar\",\n",
    "    \"last name\" : \"khan\",\n",
    "    \"age\"       : 21,\n",
    "    \"city\"      : \"Karachi\"\n",
    "}\n",
    "\n",
    "print(myinfo)\n",
    "\n",
    "myinfo[\"qualification\"] = \"intermediate\"\n",
    "print(myinfo)\n",
    "\n",
    "myinfo[\"qualification\"]= \"bachelors\"\n",
    "print(myinfo)\n",
    "\n",
    "del myinfo[\"qualification\"]\n",
    "print(myinfo)"
   ]
  },
  {
   "cell_type": "code",
   "execution_count": 4,
   "metadata": {},
   "outputs": [
    {
     "name": "stdout",
     "output_type": "stream",
     "text": [
      "{'country': 'Portugal', 'population': 25000000, 'fact': 'There are so many education sectors !'}\n",
      "{'country': 'Italy', 'population': 199000, 'fact': \"It's a beautiful place !\"}\n",
      "{'country': 'Poland', 'population': 145000, 'fact': 'It is nice country to travel!'}\n"
     ]
    }
   ],
   "source": [
    "# question 2\n",
    "\n",
    "cities = {\n",
    "    \" Porto\" : {\"country\"      : \"Portugal\" ,\n",
    "                              \"population\" : 25000000,\n",
    "                              \"fact\"            : \"There are so many education sectors !\"},\n",
    "    \n",
    "    \"Siena\"           : {\"country\"      : \"Italy\" ,\n",
    "                              \"population\" : 199000,\n",
    "                              \"fact\"            : \"It's a beautiful place !\"},\n",
    "    \n",
    "    \"Kraków\"    : {\"country\"      : \"Poland\" ,\n",
    "                              \"population\" : 145000,\n",
    "                              \"fact\"            : \"It is nice country to travel!\"}\n",
    "}\n",
    "\n",
    "print(cities[\" Porto\"])\n",
    "print(cities[\"Siena\"])\n",
    "print(cities[\"Kraków\"])"
   ]
  },
  {
   "cell_type": "code",
   "execution_count": 5,
   "metadata": {},
   "outputs": [
    {
     "name": "stdout",
     "output_type": "stream",
     "text": [
      "\n",
      "Enter your age or 'x' to stop asking :8\n",
      "Your ticket is $10 !\n",
      "\n",
      "Enter your age or 'x' to stop asking :x\n"
     ]
    }
   ],
   "source": [
    "# question 3\n",
    "\n",
    "temp = True\n",
    "while temp:\n",
    "    age = input(\"\\nEnter your age or 'x' to stop asking :\")\n",
    "    \n",
    "    if age.lower() == 'x':\n",
    "        temp = False\n",
    "    else:\n",
    "        int_age = int(age)\n",
    "        if int_age < 3:\n",
    "            print(\"Your ticket is free !\")\n",
    "        elif int_age >=3 and int_age <=12:\n",
    "            print(\"Your ticket is $10 !\")\n",
    "        elif int_age > 12:\n",
    "            print(\"Your ticket is $15 !\")"
   ]
  },
  {
   "cell_type": "code",
   "execution_count": 6,
   "metadata": {},
   "outputs": [
    {
     "name": "stdout",
     "output_type": "stream",
     "text": [
      "One of my favorite books is 'godfather by Mario Puzzo'.\n",
      "One of my favorite books is 'To Kill a Mockingbird '.\n"
     ]
    }
   ],
   "source": [
    "# question 4\n",
    "\n",
    "def favorite_book(title):\n",
    "    print(f\"One of my favorite books is '{title}'.\")\n",
    "    \n",
    "favorite_book(\"godfather by Mario Puzzo\")\n",
    "favorite_book(\"To Kill a Mockingbird \")"
   ]
  },
  {
   "cell_type": "code",
   "execution_count": 7,
   "metadata": {},
   "outputs": [
    {
     "name": "stdout",
     "output_type": "stream",
     "text": [
      "\n",
      "\tYou have 3 chances to guess the hidden number (from 1 to 30): 5\n",
      "\tYour guess is less than the hidden number !\n",
      "\n",
      "\tYou have 2 chances to guess the hidden number (from 1 to 30): 25\n",
      "\tYour guess is greater than the hidden number !\n",
      "\n",
      "\tYou have 1 chances to guess the hidden number (from 1 to 30): 20\n",
      "\tYour guess is greater than the hidden number !\n",
      "\n",
      "\tYou Lost ! :(  Hidden Number was 17\n"
     ]
    }
   ],
   "source": [
    "# question 5\n",
    "\n",
    "import random as x\n",
    "i = 3\n",
    "while i > 0:\n",
    "    correct_num = x.randint(1,30)\n",
    "    user_num = int(input(f\"\\n\\tYou have {i} chances to guess the hidden number (from 1 to 30): \"))\n",
    "    \n",
    "    if user_num == correct_num:\n",
    "        print(\"\\t***Congrats ! Correct Guess, You Won*** :)\")\n",
    "        break\n",
    "    elif user_num > correct_num:\n",
    "        print(\"\\tYour guess is greater than the hidden number !\")\n",
    "        i -= 1\n",
    "    elif user_num < correct_num:\n",
    "        print(\"\\tYour guess is less than the hidden number !\")\n",
    "        i-=1\n",
    "    elif user_num < 1 or user_num > 30:\n",
    "        print(\"\\tPlease enter number in range 1 to 30 !\")\n",
    "        \n",
    "if i == 0:\n",
    "    print(f\"\\n\\tYou Lost ! :(  Hidden Number was {correct_num}\")"
   ]
  },
  {
   "cell_type": "code",
   "execution_count": null,
   "metadata": {},
   "outputs": [],
   "source": []
  }
 ],
 "metadata": {
  "kernelspec": {
   "display_name": "Python 3",
   "language": "python",
   "name": "python3"
  },
  "language_info": {
   "codemirror_mode": {
    "name": "ipython",
    "version": 3
   },
   "file_extension": ".py",
   "mimetype": "text/x-python",
   "name": "python",
   "nbconvert_exporter": "python",
   "pygments_lexer": "ipython3",
   "version": "3.7.3"
  }
 },
 "nbformat": 4,
 "nbformat_minor": 2
}
