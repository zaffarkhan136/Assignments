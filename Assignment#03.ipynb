{
 "cells": [
  {
   "cell_type": "markdown",
   "metadata": {},
   "source": [
    "# 1. Make a calculator using Python with addition , subtraction , multiplication ,division and power."
   ]
  },
  {
   "cell_type": "code",
   "execution_count": 2,
   "metadata": {},
   "outputs": [
    {
     "name": "stdout",
     "output_type": "stream",
     "text": [
      "Enter 1st number  5\n",
      "Enter 2nd number  5\n",
      "Enter operator  p\n",
      "3125\n"
     ]
    }
   ],
   "source": [
    "a = int(input(\"Enter 1st number  \"))\n",
    "b = int( input(\"Enter 2nd number  \"))\n",
    "operator = input(\"Enter operator  \")\n",
    "\n",
    "if operator == \"*\":\n",
    "    print(a*b)\n",
    "    \n",
    "elif operator == '+':\n",
    "    pritn(a+b)\n",
    "\n",
    "elif operator == '-':\n",
    "    print(a-b)\n",
    "    \n",
    "elif operator == '/':\n",
    "    print(a/b)\n",
    "    \n",
    "elif operator == 'p':\n",
    "    print(a**b)"
   ]
  },
  {
   "cell_type": "markdown",
   "metadata": {},
   "source": [
    "# 2. Write a program to check if there is any numeric value in list using for loop"
   ]
  },
  {
   "cell_type": "code",
   "execution_count": 3,
   "metadata": {},
   "outputs": [
    {
     "name": "stdout",
     "output_type": "stream",
     "text": [
      "Numeric value is found = 12 At Index=0\n",
      "Numeric value is found = 13 At Index=5\n"
     ]
    }
   ],
   "source": [
    "arr = [12,\"asf\",\"qwe\",\"power\",\"lol\",13]\n",
    "for aa in arr:\n",
    "    if type(aa) == int or type(aa) == float:\n",
    "        print(f\"Numeric value is found = {aa} At Index={arr.index(aa)}\")"
   ]
  },
  {
   "cell_type": "markdown",
   "metadata": {},
   "source": [
    "# 3. Write a Python script to add a key to a dictionary"
   ]
  },
  {
   "cell_type": "code",
   "execution_count": 4,
   "metadata": {},
   "outputs": [
    {
     "name": "stdout",
     "output_type": "stream",
     "text": [
      "{'firstName': 'Muhammad', 'lastName': 'Hussain'}\n",
      "{'firstName': 'Muhammad', 'lastName': 'Hussain', 'mid': 'lol'}\n"
     ]
    }
   ],
   "source": [
    "dtio = {\"firstName\":\"Muhammad\", \"lastName\":\"Hussain\"}\n",
    "print(dtio)\n",
    "\n",
    "dtio.update({\"mid\":\"lol\"})\n",
    "print(dtio)"
   ]
  },
  {
   "cell_type": "markdown",
   "metadata": {},
   "source": [
    "# 4. Write a Python program to sum all the numeric items in a dictionary"
   ]
  },
  {
   "cell_type": "code",
   "execution_count": 12,
   "metadata": {},
   "outputs": [
    {
     "name": "stdout",
     "output_type": "stream",
     "text": [
      "sum ::  176\n"
     ]
    }
   ],
   "source": [
    "def sumdic(dtio):\n",
    "        sum = 0\n",
    "        for i in dtio.values():\n",
    "            sum = sum + i\n",
    "        return sum\n",
    "\n",
    "ndtio = {0:12 , 1:41, 2:123 }\n",
    "\n",
    "print(\"sum :: \",sumdic(ndtio))\n"
   ]
  },
  {
   "cell_type": "markdown",
   "metadata": {},
   "source": [
    "# 5. Write a program to identify duplicate values from list"
   ]
  },
  {
   "cell_type": "code",
   "execution_count": 20,
   "metadata": {},
   "outputs": [
    {
     "name": "stdout",
     "output_type": "stream",
     "text": [
      "duplicate value is found  aaa\n",
      "duplicate value is found  1\n",
      "['hhh', 'aaa', 'abc', 'ccc', 1]\n"
     ]
    }
   ],
   "source": [
    "lst1 = [\"hhh\",\"aaa\", \"abc\",\"aaa\",\"ccc\",1,1]\n",
    "def dup(lst):\n",
    "    lst1dup = []\n",
    "    for val in lst:\n",
    "        if val not in lst1dup:\n",
    "            lst1dup.append(val)\n",
    "        elif val in lst1dup:\n",
    "            print(\"duplicate value is found \",val)\n",
    "    return lst1dup\n",
    "\n",
    "print(dup(lst1))\n"
   ]
  },
  {
   "cell_type": "markdown",
   "metadata": {},
   "source": [
    "# 6. Write a Python script to check if a given key already exists in a dictionary"
   ]
  },
  {
   "cell_type": "code",
   "execution_count": 33,
   "metadata": {},
   "outputs": [
    {
     "name": "stdout",
     "output_type": "stream",
     "text": [
      "Key is present in the dictionary\n",
      "Key is not present in the dictionary\n"
     ]
    }
   ],
   "source": [
    "dic = {\n",
    "    1: 30,\n",
    "    2: 50,\n",
    "    3: 20,\n",
    "    4: 50,\n",
    "    5: 90,\n",
    "    6: 60}\n",
    "def is_key_present(x):\n",
    "    if x in dic:\n",
    "        print('Key is present in the dictionary')\n",
    "    else: \n",
    "        print('Key is not present in the dictionary')\n",
    "            \n",
    "            \n",
    "is_key_present(6)\n",
    "is_key_present(99)"
   ]
  }
 ],
 "metadata": {
  "kernelspec": {
   "display_name": "Python 3",
   "language": "python",
   "name": "python3"
  },
  "language_info": {
   "codemirror_mode": {
    "name": "ipython",
    "version": 3
   },
   "file_extension": ".py",
   "mimetype": "text/x-python",
   "name": "python",
   "nbconvert_exporter": "python",
   "pygments_lexer": "ipython3",
   "version": "3.7.3"
  }
 },
 "nbformat": 4,
 "nbformat_minor": 2
}
